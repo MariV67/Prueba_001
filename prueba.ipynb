{
 "cells": [
  {
   "cell_type": "code",
   "execution_count": null,
   "id": "3c200402",
   "metadata": {},
   "outputs": [],
   "source": []
  },
  {
   "cell_type": "code",
   "execution_count": null,
   "id": "5b93d510",
   "metadata": {},
   "outputs": [
    {
     "data": {
      "text/plain": [
       "2"
      ]
     },
     "execution_count": 1,
     "metadata": {},
     "output_type": "execute_result"
    }
   ],
   "source": [
    "\n",
    "#Definimos una funcion que sume dos numeros\n",
    "def sumar()"
   ]
  },
  {
   "cell_type": "code",
   "execution_count": 2,
   "id": "7e52fcb2",
   "metadata": {},
   "outputs": [
    {
     "name": "stdout",
     "output_type": "stream",
     "text": [
      "Base de datos inicializada y datos subidos correctamente.\n",
      "Dataframe subido correctamente a la base de datos.\n"
     ]
    }
   ],
   "source": [
    "from pym import tools\n",
    "df_1 = tools.generar_df_ventas('2025-01-01', 1000)\n",
    "tools.inicializar_bbdd(df_1)\n",
    "\n",
    "df_2 = tools.generar_df_ventas('2025-01-02', 1000)\n",
    "# Subimos la info del 2 de enero \n",
    "tools.subir_df(df_2)\n"
   ]
  },
  {
   "cell_type": "code",
   "execution_count": 3,
   "id": "b5e51a76",
   "metadata": {},
   "outputs": [
    {
     "name": "stdout",
     "output_type": "stream",
     "text": [
      "Dataframe subido correctamente a la base de datos.\n"
     ]
    }
   ],
   "source": [
    "tools.subir_df(tools.generar_df_ventas('2025-01-03', 1000))\n"
   ]
  }
 ],
 "metadata": {
  "kernelspec": {
   "display_name": "Python 3",
   "language": "python",
   "name": "python3"
  },
  "language_info": {
   "codemirror_mode": {
    "name": "ipython",
    "version": 3
   },
   "file_extension": ".py",
   "mimetype": "text/x-python",
   "name": "python",
   "nbconvert_exporter": "python",
   "pygments_lexer": "ipython3",
   "version": "3.12.1"
  }
 },
 "nbformat": 4,
 "nbformat_minor": 5
}
